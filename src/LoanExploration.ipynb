{
 "cells": [
  {
   "cell_type": "code",
   "execution_count": 1,
   "metadata": {},
   "outputs": [
    {
     "name": "stderr",
     "output_type": "stream",
     "text": [
      "/Users/amandabrown/anaconda3/lib/python3.6/site-packages/sklearn/cross_validation.py:41: DeprecationWarning: This module was deprecated in version 0.18 in favor of the model_selection module into which all the refactored classes and functions are moved. Also note that the interface of the new CV iterators are different from that of this module. This module will be removed in 0.20.\n",
      "  \"This module will be removed in 0.20.\", DeprecationWarning)\n"
     ]
    }
   ],
   "source": [
    "import pandas as pd\n",
    "import numpy as np\n",
    "from sklearn.model_selection import train_test_split\n",
    "import seaborn as sns\n",
    "import matplotlib.pyplot as plt\n",
    "\n",
    "from scipy import stats\n",
    "import random\n",
    "from sklearn.linear_model import LinearRegression \n",
    "from sklearn.linear_model import Ridge\n",
    "from sklearn.linear_model import Lasso\n",
    "from sklearn.model_selection import KFold\n",
    "from sklearn.preprocessing import StandardScaler \n",
    "from sklearn.preprocessing import MinMaxScaler\n",
    "from sklearn.preprocessing import PolynomialFeatures \n",
    "from sklearn.linear_model import LogisticRegression \n",
    "from sklearn.naive_bayes import GaussianNB\n",
    "from sklearn import metrics, cross_validation\n",
    "from sklearn.model_selection import cross_val_score \n",
    "from sklearn.utils import shuffle"
   ]
  },
  {
   "cell_type": "code",
   "execution_count": 2,
   "metadata": {},
   "outputs": [
    {
     "name": "stderr",
     "output_type": "stream",
     "text": [
      "/Users/amandabrown/anaconda3/lib/python3.6/site-packages/IPython/core/interactiveshell.py:2728: DtypeWarning: Columns (0,19,49,59,118,129,130,131,134,135,136,139,145,146,147) have mixed types. Specify dtype option on import or set low_memory=False.\n",
      "  interactivity=interactivity, compiler=compiler, result=result)\n"
     ]
    }
   ],
   "source": [
    "#filename = \"../data/loan.csv\"\n",
    "filename = \"../data/accepted_2007_to_2018Q4.csv\"\n",
    "df = pd.read_csv(filename)"
   ]
  },
  {
   "cell_type": "code",
   "execution_count": 3,
   "metadata": {},
   "outputs": [
    {
     "data": {
      "text/plain": [
       "(2260701, 151)"
      ]
     },
     "execution_count": 3,
     "metadata": {},
     "output_type": "execute_result"
    }
   ],
   "source": [
    "df.shape"
   ]
  },
  {
   "cell_type": "code",
   "execution_count": 4,
   "metadata": {},
   "outputs": [
    {
     "data": {
      "text/plain": [
       "Index(['id', 'member_id', 'loan_amnt', 'funded_amnt', 'funded_amnt_inv',\n",
       "       'term', 'int_rate', 'installment', 'grade', 'sub_grade',\n",
       "       ...\n",
       "       'hardship_payoff_balance_amount', 'hardship_last_payment_amount',\n",
       "       'disbursement_method', 'debt_settlement_flag',\n",
       "       'debt_settlement_flag_date', 'settlement_status', 'settlement_date',\n",
       "       'settlement_amount', 'settlement_percentage', 'settlement_term'],\n",
       "      dtype='object', length=151)"
      ]
     },
     "execution_count": 4,
     "metadata": {},
     "output_type": "execute_result"
    }
   ],
   "source": [
    "df.columns"
   ]
  },
  {
   "cell_type": "code",
   "execution_count": 5,
   "metadata": {},
   "outputs": [
    {
     "data": {
      "text/plain": [
       "Index(['fico_range_low', 'fico_range_high', 'last_fico_range_high',\n",
       "       'last_fico_range_low', 'sec_app_fico_range_low',\n",
       "       'sec_app_fico_range_high'],\n",
       "      dtype='object')"
      ]
     },
     "execution_count": 5,
     "metadata": {},
     "output_type": "execute_result"
    }
   ],
   "source": [
    "df.columns[df.columns.str.contains('fico')]"
   ]
  },
  {
   "cell_type": "code",
   "execution_count": 6,
   "metadata": {},
   "outputs": [
    {
     "data": {
      "text/plain": [
       "Fully Paid                                             1076751\n",
       "Current                                                 878317\n",
       "Charged Off                                             268559\n",
       "Late (31-120 days)                                       21467\n",
       "In Grace Period                                           8436\n",
       "Late (16-30 days)                                         4349\n",
       "Does not meet the credit policy. Status:Fully Paid        1988\n",
       "Does not meet the credit policy. Status:Charged Off        761\n",
       "Default                                                     40\n",
       "Name: loan_status, dtype: int64"
      ]
     },
     "execution_count": 6,
     "metadata": {},
     "output_type": "execute_result"
    }
   ],
   "source": [
    "df['loan_status'].value_counts()"
   ]
  },
  {
   "cell_type": "code",
   "execution_count": 7,
   "metadata": {},
   "outputs": [
    {
     "data": {
      "text/plain": [
       "<matplotlib.axes._subplots.AxesSubplot at 0x139671978>"
      ]
     },
     "execution_count": 7,
     "metadata": {},
     "output_type": "execute_result"
    },
    {
     "data": {
      "image/png": "[encoded data removed]",
      "text/plain": [
       "<Figure size 1440x720 with 1 Axes>"
      ]
     },
     "metadata": {},
     "output_type": "display_data"
    }
   ],
   "source": [
    "fig = plt.figure(figsize=(20,10))\n",
    "sns.countplot(x=\"loan_status\", data=df)"
   ]
  },
  {
   "cell_type": "code",
   "execution_count": 8,
   "metadata": {},
   "outputs": [],
   "source": [
    "df = df.loc[df['loan_status'].isin(['Default', 'Fully Paid', 'Charged Off'])]"
   ]
  },
  {
   "cell_type": "code",
   "execution_count": 9,
   "metadata": {},
   "outputs": [
    {
     "data": {
      "text/plain": [
       "(1345350, 151)"
      ]
     },
     "execution_count": 9,
     "metadata": {},
     "output_type": "execute_result"
    }
   ],
   "source": [
    "df.shape"
   ]
  },
  {
   "cell_type": "code",
   "execution_count": 10,
   "metadata": {},
   "outputs": [],
   "source": [
    "cols = ['funded_amnt', 'int_rate', 'grade', 'sub_grade', 'emp_title' ,\n",
    "        'emp_length', 'home_ownership', 'annual_inc', 'verification_status', \n",
    "        'purpose', 'title', 'zip_code', 'addr_state','fico_range_low', 'fico_range_high',\n",
    "       'last_fico_range_high', 'last_fico_range_low', 'dti' ,'delinq_2yrs',\n",
    "        'earliest_cr_line','loan_status']"
   ]
  },
  {
   "cell_type": "code",
   "execution_count": 11,
   "metadata": {},
   "outputs": [
    {
     "data": {
      "text/html": [
       "<div>\n",
       "<style scoped>\n",
       "    .dataframe tbody tr th:only-of-type {\n",
       "        vertical-align: middle;\n",
       "    }\n",
       "\n",
       "    .dataframe tbody tr th {\n",
       "        vertical-align: top;\n",
       "    }\n",
       "\n",
       "    .dataframe thead th {\n",
       "        text-align: right;\n",
       "    }\n",
       "</style>\n",
       "<table border=\"1\" class=\"dataframe\">\n",
       "  <thead>\n",
       "    <tr style=\"text-align: right;\">\n",
       "      <th></th>\n",
       "      <th>funded_amnt</th>\n",
       "      <th>int_rate</th>\n",
       "      <th>grade</th>\n",
       "      <th>sub_grade</th>\n",
       "      <th>emp_title</th>\n",
       "      <th>emp_length</th>\n",
       "      <th>home_ownership</th>\n",
       "      <th>annual_inc</th>\n",
       "      <th>verification_status</th>\n",
       "      <th>purpose</th>\n",
       "      <th>...</th>\n",
       "      <th>zip_code</th>\n",
       "      <th>addr_state</th>\n",
       "      <th>fico_range_low</th>\n",
       "      <th>fico_range_high</th>\n",
       "      <th>last_fico_range_high</th>\n",
       "      <th>last_fico_range_low</th>\n",
       "      <th>dti</th>\n",
       "      <th>delinq_2yrs</th>\n",
       "      <th>earliest_cr_line</th>\n",
       "      <th>loan_status</th>\n",
       "    </tr>\n",
       "  </thead>\n",
       "  <tbody>\n",
       "    <tr>\n",
       "      <th>0</th>\n",
       "      <td>3600.0</td>\n",
       "      <td>13.99</td>\n",
       "      <td>C</td>\n",
       "      <td>C4</td>\n",
       "      <td>leadman</td>\n",
       "      <td>10+ years</td>\n",
       "      <td>MORTGAGE</td>\n",
       "      <td>55000.0</td>\n",
       "      <td>Not Verified</td>\n",
       "      <td>debt_consolidation</td>\n",
       "      <td>...</td>\n",
       "      <td>190xx</td>\n",
       "      <td>PA</td>\n",
       "      <td>675.0</td>\n",
       "      <td>679.0</td>\n",
       "      <td>564.0</td>\n",
       "      <td>560.0</td>\n",
       "      <td>5.91</td>\n",
       "      <td>0.0</td>\n",
       "      <td>Aug-2003</td>\n",
       "      <td>Fully Paid</td>\n",
       "    </tr>\n",
       "    <tr>\n",
       "      <th>1</th>\n",
       "      <td>24700.0</td>\n",
       "      <td>11.99</td>\n",
       "      <td>C</td>\n",
       "      <td>C1</td>\n",
       "      <td>Engineer</td>\n",
       "      <td>10+ years</td>\n",
       "      <td>MORTGAGE</td>\n",
       "      <td>65000.0</td>\n",
       "      <td>Not Verified</td>\n",
       "      <td>small_business</td>\n",
       "      <td>...</td>\n",
       "      <td>577xx</td>\n",
       "      <td>SD</td>\n",
       "      <td>715.0</td>\n",
       "      <td>719.0</td>\n",
       "      <td>699.0</td>\n",
       "      <td>695.0</td>\n",
       "      <td>16.06</td>\n",
       "      <td>1.0</td>\n",
       "      <td>Dec-1999</td>\n",
       "      <td>Fully Paid</td>\n",
       "    </tr>\n",
       "    <tr>\n",
       "      <th>2</th>\n",
       "      <td>20000.0</td>\n",
       "      <td>10.78</td>\n",
       "      <td>B</td>\n",
       "      <td>B4</td>\n",
       "      <td>truck driver</td>\n",
       "      <td>10+ years</td>\n",
       "      <td>MORTGAGE</td>\n",
       "      <td>63000.0</td>\n",
       "      <td>Not Verified</td>\n",
       "      <td>home_improvement</td>\n",
       "      <td>...</td>\n",
       "      <td>605xx</td>\n",
       "      <td>IL</td>\n",
       "      <td>695.0</td>\n",
       "      <td>699.0</td>\n",
       "      <td>704.0</td>\n",
       "      <td>700.0</td>\n",
       "      <td>10.78</td>\n",
       "      <td>0.0</td>\n",
       "      <td>Aug-2000</td>\n",
       "      <td>Fully Paid</td>\n",
       "    </tr>\n",
       "    <tr>\n",
       "      <th>4</th>\n",
       "      <td>10400.0</td>\n",
       "      <td>22.45</td>\n",
       "      <td>F</td>\n",
       "      <td>F1</td>\n",
       "      <td>Contract Specialist</td>\n",
       "      <td>3 years</td>\n",
       "      <td>MORTGAGE</td>\n",
       "      <td>104433.0</td>\n",
       "      <td>Source Verified</td>\n",
       "      <td>major_purchase</td>\n",
       "      <td>...</td>\n",
       "      <td>174xx</td>\n",
       "      <td>PA</td>\n",
       "      <td>695.0</td>\n",
       "      <td>699.0</td>\n",
       "      <td>704.0</td>\n",
       "      <td>700.0</td>\n",
       "      <td>25.37</td>\n",
       "      <td>1.0</td>\n",
       "      <td>Jun-1998</td>\n",
       "      <td>Fully Paid</td>\n",
       "    </tr>\n",
       "    <tr>\n",
       "      <th>5</th>\n",
       "      <td>11950.0</td>\n",
       "      <td>13.44</td>\n",
       "      <td>C</td>\n",
       "      <td>C3</td>\n",
       "      <td>Veterinary Tecnician</td>\n",
       "      <td>4 years</td>\n",
       "      <td>RENT</td>\n",
       "      <td>34000.0</td>\n",
       "      <td>Source Verified</td>\n",
       "      <td>debt_consolidation</td>\n",
       "      <td>...</td>\n",
       "      <td>300xx</td>\n",
       "      <td>GA</td>\n",
       "      <td>690.0</td>\n",
       "      <td>694.0</td>\n",
       "      <td>759.0</td>\n",
       "      <td>755.0</td>\n",
       "      <td>10.20</td>\n",
       "      <td>0.0</td>\n",
       "      <td>Oct-1987</td>\n",
       "      <td>Fully Paid</td>\n",
       "    </tr>\n",
       "    <tr>\n",
       "      <th>6</th>\n",
       "      <td>20000.0</td>\n",
       "      <td>9.17</td>\n",
       "      <td>B</td>\n",
       "      <td>B2</td>\n",
       "      <td>Vice President of Recruiting Operations</td>\n",
       "      <td>10+ years</td>\n",
       "      <td>MORTGAGE</td>\n",
       "      <td>180000.0</td>\n",
       "      <td>Not Verified</td>\n",
       "      <td>debt_consolidation</td>\n",
       "      <td>...</td>\n",
       "      <td>550xx</td>\n",
       "      <td>MN</td>\n",
       "      <td>680.0</td>\n",
       "      <td>684.0</td>\n",
       "      <td>654.0</td>\n",
       "      <td>650.0</td>\n",
       "      <td>14.67</td>\n",
       "      <td>0.0</td>\n",
       "      <td>Jun-1990</td>\n",
       "      <td>Fully Paid</td>\n",
       "    </tr>\n",
       "    <tr>\n",
       "      <th>7</th>\n",
       "      <td>20000.0</td>\n",
       "      <td>8.49</td>\n",
       "      <td>B</td>\n",
       "      <td>B1</td>\n",
       "      <td>road driver</td>\n",
       "      <td>10+ years</td>\n",
       "      <td>MORTGAGE</td>\n",
       "      <td>85000.0</td>\n",
       "      <td>Not Verified</td>\n",
       "      <td>major_purchase</td>\n",
       "      <td>...</td>\n",
       "      <td>293xx</td>\n",
       "      <td>SC</td>\n",
       "      <td>705.0</td>\n",
       "      <td>709.0</td>\n",
       "      <td>674.0</td>\n",
       "      <td>670.0</td>\n",
       "      <td>17.61</td>\n",
       "      <td>1.0</td>\n",
       "      <td>Feb-1999</td>\n",
       "      <td>Fully Paid</td>\n",
       "    </tr>\n",
       "    <tr>\n",
       "      <th>8</th>\n",
       "      <td>10000.0</td>\n",
       "      <td>6.49</td>\n",
       "      <td>A</td>\n",
       "      <td>A2</td>\n",
       "      <td>SERVICE MANAGER</td>\n",
       "      <td>6 years</td>\n",
       "      <td>RENT</td>\n",
       "      <td>85000.0</td>\n",
       "      <td>Not Verified</td>\n",
       "      <td>credit_card</td>\n",
       "      <td>...</td>\n",
       "      <td>160xx</td>\n",
       "      <td>PA</td>\n",
       "      <td>685.0</td>\n",
       "      <td>689.0</td>\n",
       "      <td>719.0</td>\n",
       "      <td>715.0</td>\n",
       "      <td>13.07</td>\n",
       "      <td>0.0</td>\n",
       "      <td>Apr-2002</td>\n",
       "      <td>Fully Paid</td>\n",
       "    </tr>\n",
       "    <tr>\n",
       "      <th>9</th>\n",
       "      <td>8000.0</td>\n",
       "      <td>11.48</td>\n",
       "      <td>B</td>\n",
       "      <td>B5</td>\n",
       "      <td>Vendor liaison</td>\n",
       "      <td>10+ years</td>\n",
       "      <td>MORTGAGE</td>\n",
       "      <td>42000.0</td>\n",
       "      <td>Not Verified</td>\n",
       "      <td>credit_card</td>\n",
       "      <td>...</td>\n",
       "      <td>029xx</td>\n",
       "      <td>RI</td>\n",
       "      <td>700.0</td>\n",
       "      <td>704.0</td>\n",
       "      <td>679.0</td>\n",
       "      <td>675.0</td>\n",
       "      <td>34.80</td>\n",
       "      <td>0.0</td>\n",
       "      <td>Nov-1994</td>\n",
       "      <td>Fully Paid</td>\n",
       "    </tr>\n",
       "    <tr>\n",
       "      <th>12</th>\n",
       "      <td>1400.0</td>\n",
       "      <td>12.88</td>\n",
       "      <td>C</td>\n",
       "      <td>C2</td>\n",
       "      <td>Logistics Manager</td>\n",
       "      <td>3 years</td>\n",
       "      <td>MORTGAGE</td>\n",
       "      <td>64000.0</td>\n",
       "      <td>Not Verified</td>\n",
       "      <td>other</td>\n",
       "      <td>...</td>\n",
       "      <td>275xx</td>\n",
       "      <td>NC</td>\n",
       "      <td>700.0</td>\n",
       "      <td>704.0</td>\n",
       "      <td>704.0</td>\n",
       "      <td>700.0</td>\n",
       "      <td>34.95</td>\n",
       "      <td>0.0</td>\n",
       "      <td>Jun-1996</td>\n",
       "      <td>Fully Paid</td>\n",
       "    </tr>\n",
       "  </tbody>\n",
       "</table>\n",
       "<p>10 rows × 21 columns</p>\n",
       "</div>"
      ],
      "text/plain": [
       "    funded_amnt  int_rate grade sub_grade  \\\n",
       "0        3600.0     13.99     C        C4   \n",
       "1       24700.0     11.99     C        C1   \n",
       "2       20000.0     10.78     B        B4   \n",
       "4       10400.0     22.45     F        F1   \n",
       "5       11950.0     13.44     C        C3   \n",
       "6       20000.0      9.17     B        B2   \n",
       "7       20000.0      8.49     B        B1   \n",
       "8       10000.0      6.49     A        A2   \n",
       "9        8000.0     11.48     B        B5   \n",
       "12       1400.0     12.88     C        C2   \n",
       "\n",
       "                                  emp_title emp_length home_ownership  \\\n",
       "0                                   leadman  10+ years       MORTGAGE   \n",
       "1                                  Engineer  10+ years       MORTGAGE   \n",
       "2                              truck driver  10+ years       MORTGAGE   \n",
       "4                       Contract Specialist    3 years       MORTGAGE   \n",
       "5                      Veterinary Tecnician    4 years           RENT   \n",
       "6   Vice President of Recruiting Operations  10+ years       MORTGAGE   \n",
       "7                               road driver  10+ years       MORTGAGE   \n",
       "8                           SERVICE MANAGER    6 years           RENT   \n",
       "9                            Vendor liaison  10+ years       MORTGAGE   \n",
       "12                        Logistics Manager    3 years       MORTGAGE   \n",
       "\n",
       "    annual_inc verification_status             purpose  ... zip_code  \\\n",
       "0      55000.0        Not Verified  debt_consolidation  ...    190xx   \n",
       "1      65000.0        Not Verified      small_business  ...    577xx   \n",
       "2      63000.0        Not Verified    home_improvement  ...    605xx   \n",
       "4     104433.0     Source Verified      major_purchase  ...    174xx   \n",
       "5      34000.0     Source Verified  debt_consolidation  ...    300xx   \n",
       "6     180000.0        Not Verified  debt_consolidation  ...    550xx   \n",
       "7      85000.0        Not Verified      major_purchase  ...    293xx   \n",
       "8      85000.0        Not Verified         credit_card  ...    160xx   \n",
       "9      42000.0        Not Verified         credit_card  ...    029xx   \n",
       "12     64000.0        Not Verified               other  ...    275xx   \n",
       "\n",
       "   addr_state fico_range_low  fico_range_high  last_fico_range_high  \\\n",
       "0          PA          675.0            679.0                 564.0   \n",
       "1          SD          715.0            719.0                 699.0   \n",
       "2          IL          695.0            699.0                 704.0   \n",
       "4          PA          695.0            699.0                 704.0   \n",
       "5          GA          690.0            694.0                 759.0   \n",
       "6          MN          680.0            684.0                 654.0   \n",
       "7          SC          705.0            709.0                 674.0   \n",
       "8          PA          685.0            689.0                 719.0   \n",
       "9          RI          700.0            704.0                 679.0   \n",
       "12         NC          700.0            704.0                 704.0   \n",
       "\n",
       "    last_fico_range_low    dti  delinq_2yrs  earliest_cr_line loan_status  \n",
       "0                 560.0   5.91          0.0          Aug-2003  Fully Paid  \n",
       "1                 695.0  16.06          1.0          Dec-1999  Fully Paid  \n",
       "2                 700.0  10.78          0.0          Aug-2000  Fully Paid  \n",
       "4                 700.0  25.37          1.0          Jun-1998  Fully Paid  \n",
       "5                 755.0  10.20          0.0          Oct-1987  Fully Paid  \n",
       "6                 650.0  14.67          0.0          Jun-1990  Fully Paid  \n",
       "7                 670.0  17.61          1.0          Feb-1999  Fully Paid  \n",
       "8                 715.0  13.07          0.0          Apr-2002  Fully Paid  \n",
       "9                 675.0  34.80          0.0          Nov-1994  Fully Paid  \n",
       "12                700.0  34.95          0.0          Jun-1996  Fully Paid  \n",
       "\n",
       "[10 rows x 21 columns]"
      ]
     },
     "execution_count": 11,
     "metadata": {},
     "output_type": "execute_result"
    }
   ],
   "source": [
    "df[cols].head(10)"
   ]
  },
  {
   "cell_type": "code",
   "execution_count": 12,
   "metadata": {},
   "outputs": [
    {
     "data": {
      "text/plain": [
       "10+ years    442209\n",
       "2 years      121751\n",
       "< 1 year     108065\n",
       "3 years      107602\n",
       "1 year        88495\n",
       "5 years       84154\n",
       "4 years       80558\n",
       "6 years       62735\n",
       "8 years       60704\n",
       "7 years       59624\n",
       "9 years       50937\n",
       "Name: emp_length, dtype: int64"
      ]
     },
     "execution_count": 12,
     "metadata": {},
     "output_type": "execute_result"
    }
   ],
   "source": [
    "df['emp_length'].value_counts()"
   ]
  },
  {
   "cell_type": "code",
   "execution_count": 13,
   "metadata": {},
   "outputs": [],
   "source": [
    "mymap = {'< 1 year': 0, '1 year': 1,'2 years':2,'3 years':3,'4 years':4,'5 years':5,'6 years':6,'7 years':7,'8 years':8,'9 years':9, '10 years':10,'10+ years':11}\n",
    "\n",
    "df = df.applymap(lambda s: mymap.get(s) if s in mymap else s)"
   ]
  },
  {
   "cell_type": "code",
   "execution_count": 14,
   "metadata": {},
   "outputs": [
    {
     "data": {
      "text/plain": [
       "0     0\n",
       "1     0\n",
       "2     0\n",
       "4     0\n",
       "5     0\n",
       "6     0\n",
       "7     0\n",
       "8     0\n",
       "9     0\n",
       "12    0\n",
       "Name: loan_status, dtype: int64"
      ]
     },
     "execution_count": 14,
     "metadata": {},
     "output_type": "execute_result"
    }
   ],
   "source": [
    "mymap = {'Default': 1, 'Charged Off': 1,'Fully Paid':0}\n",
    "\n",
    "df = df.applymap(lambda s: mymap.get(s) if s in mymap else s)\n",
    "df['loan_status'].head(10)"
   ]
  },
  {
   "cell_type": "code",
   "execution_count": 16,
   "metadata": {},
   "outputs": [
    {
     "data": {
      "text/plain": [
       "<matplotlib.axes._subplots.AxesSubplot at 0x13eabf0b8>"
      ]
     },
     "execution_count": 16,
     "metadata": {},
     "output_type": "execute_result"
    },
    {
     "data": {
      "image/png": "[encoded data removed]",
      "text/plain": [
       "<Figure size 432x288 with 1 Axes>"
      ]
     },
     "metadata": {},
     "output_type": "display_data"
    }
   ],
   "source": [
    "df['loan_status'].value_counts()\n",
    "sns.countplot(x=\"loan_status\", data=df)"
   ]
  },
  {
   "cell_type": "code",
   "execution_count": 17,
   "metadata": {},
   "outputs": [
    {
     "name": "stdout",
     "output_type": "stream",
     "text": [
      "B    392748\n",
      "C    381694\n",
      "A    235095\n",
      "D    200966\n",
      "E     93656\n",
      "F     32059\n",
      "G      9132\n",
      "Name: grade, dtype: int64\n"
     ]
    },
    {
     "data": {
      "text/plain": [
       "<matplotlib.axes._subplots.AxesSubplot at 0x13e635a20>"
      ]
     },
     "execution_count": 17,
     "metadata": {},
     "output_type": "execute_result"
    },
    {
     "data": {
      "image/png": "[encoded data removed]",
      "text/plain": [
       "<Figure size 432x288 with 1 Axes>"
      ]
     },
     "metadata": {},
     "output_type": "display_data"
    }
   ],
   "source": [
    "print(df['grade'].value_counts())\n",
    "sns.countplot(x=\"grade\", data=df)"
   ]
  },
  {
   "cell_type": "code",
   "execution_count": null,
   "metadata": {},
   "outputs": [],
   "source": [
    "# one hot encode\n"
   ]
  },
  {
   "cell_type": "code",
   "execution_count": 18,
   "metadata": {},
   "outputs": [
    {
     "name": "stdout",
     "output_type": "stream",
     "text": [
      "(1076280, 151)\n",
      "(269070, 151)\n"
     ]
    }
   ],
   "source": [
    "df_train = df.sample(frac=0.8,random_state=1)\n",
    "df_test = df.drop(df_train.index)\n",
    "print(df_train.shape)\n",
    "print(df_test.shape)"
   ]
  },
  {
   "cell_type": "code",
   "execution_count": 88,
   "metadata": {},
   "outputs": [
    {
     "data": {
      "text/plain": [
       "(1076280, 151)"
      ]
     },
     "execution_count": 88,
     "metadata": {},
     "output_type": "execute_result"
    }
   ],
   "source": [
    "df_train.shape"
   ]
  },
  {
   "cell_type": "code",
   "execution_count": 92,
   "metadata": {},
   "outputs": [
    {
     "data": {
      "text/plain": [
       "['funded_amnt',\n",
       " 'int_rate',\n",
       " 'grade',\n",
       " 'sub_grade',\n",
       " 'emp_title',\n",
       " 'emp_length',\n",
       " 'home_ownership',\n",
       " 'annual_inc',\n",
       " 'verification_status',\n",
       " 'purpose',\n",
       " 'title',\n",
       " 'zip_code',\n",
       " 'addr_state',\n",
       " 'fico_range_low',\n",
       " 'fico_range_high',\n",
       " 'last_fico_range_high',\n",
       " 'last_fico_range_low',\n",
       " 'dti',\n",
       " 'delinq_2yrs',\n",
       " 'earliest_cr_line',\n",
       " 'loan_status']"
      ]
     },
     "execution_count": 92,
     "metadata": {},
     "output_type": "execute_result"
    }
   ],
   "source": [
    "cols"
   ]
  },
  {
   "cell_type": "code",
   "execution_count": 91,
   "metadata": {},
   "outputs": [
    {
     "data": {
      "text/plain": [
       "funded_amnt             float64\n",
       "int_rate                float64\n",
       "grade                    object\n",
       "sub_grade                object\n",
       "emp_title                object\n",
       "emp_length              float64\n",
       "home_ownership           object\n",
       "annual_inc              float64\n",
       "verification_status      object\n",
       "purpose                  object\n",
       "title                    object\n",
       "zip_code                 object\n",
       "addr_state               object\n",
       "fico_range_low          float64\n",
       "fico_range_high         float64\n",
       "last_fico_range_high    float64\n",
       "last_fico_range_low     float64\n",
       "dti                     float64\n",
       "delinq_2yrs             float64\n",
       "earliest_cr_line         object\n",
       "loan_status               int64\n",
       "dtype: object"
      ]
     },
     "execution_count": 91,
     "metadata": {},
     "output_type": "execute_result"
    }
   ],
   "source": [
    "df_train[cols].dtypes"
   ]
  },
  {
   "cell_type": "code",
   "execution_count": 26,
   "metadata": {},
   "outputs": [
    {
     "data": {
      "text/plain": [
       "Text(20, -15, 'Correlation Between Covariates')"
      ]
     },
     "execution_count": 26,
     "metadata": {},
     "output_type": "execute_result"
    },
    {
     "data": {
      "image/png": "[encoded data removed]",
      "text/plain": [
       "<Figure size 1440x1440 with 2 Axes>"
      ]
     },
     "metadata": {},
     "output_type": "display_data"
    }
   ],
   "source": [
    "f = plt.figure(figsize=(20, 20))\n",
    "cor = df_train[cols].corr()\n",
    "plt.matshow(cor, fignum=f.number)\n",
    "plt.xticks(range(cor.shape[1]), cor.columns, fontsize=20, rotation=90)\n",
    "plt.yticks(range(cor.shape[1]), cor.columns, fontsize=20)\n",
    "cb = plt.colorbar()\n",
    "cb.ax.tick_params(labelsize=14)\n",
    "plt.text(20, -15, 'Correlation Between Covariates',fontsize=20)"
   ]
  },
  {
   "cell_type": "code",
   "execution_count": 80,
   "metadata": {},
   "outputs": [
    {
     "data": {
      "text/html": [
       "<div>\n",
       "<style scoped>\n",
       "    .dataframe tbody tr th:only-of-type {\n",
       "        vertical-align: middle;\n",
       "    }\n",
       "\n",
       "    .dataframe tbody tr th {\n",
       "        vertical-align: top;\n",
       "    }\n",
       "\n",
       "    .dataframe thead th {\n",
       "        text-align: right;\n",
       "    }\n",
       "</style>\n",
       "<table border=\"1\" class=\"dataframe\">\n",
       "  <thead>\n",
       "    <tr style=\"text-align: right;\">\n",
       "      <th></th>\n",
       "      <th>funded_amnt</th>\n",
       "      <th>int_rate</th>\n",
       "      <th>emp_length</th>\n",
       "      <th>annual_inc</th>\n",
       "      <th>fico_range_low</th>\n",
       "      <th>fico_range_high</th>\n",
       "      <th>last_fico_range_high</th>\n",
       "      <th>last_fico_range_low</th>\n",
       "      <th>dti</th>\n",
       "      <th>delinq_2yrs</th>\n",
       "      <th>loan_status</th>\n",
       "    </tr>\n",
       "  </thead>\n",
       "  <tbody>\n",
       "    <tr>\n",
       "      <th>funded_amnt</th>\n",
       "      <td>1.000000</td>\n",
       "      <td>0.141893</td>\n",
       "      <td>0.090429</td>\n",
       "      <td>0.308825</td>\n",
       "      <td>0.100273</td>\n",
       "      <td>0.100272</td>\n",
       "      <td>0.050442</td>\n",
       "      <td>0.045929</td>\n",
       "      <td>0.032920</td>\n",
       "      <td>-0.003137</td>\n",
       "      <td>0.066338</td>\n",
       "    </tr>\n",
       "    <tr>\n",
       "      <th>int_rate</th>\n",
       "      <td>0.141893</td>\n",
       "      <td>1.000000</td>\n",
       "      <td>-0.004944</td>\n",
       "      <td>-0.072181</td>\n",
       "      <td>-0.404812</td>\n",
       "      <td>-0.404809</td>\n",
       "      <td>-0.349116</td>\n",
       "      <td>-0.271934</td>\n",
       "      <td>0.147620</td>\n",
       "      <td>0.048601</td>\n",
       "      <td>0.258557</td>\n",
       "    </tr>\n",
       "    <tr>\n",
       "      <th>emp_length</th>\n",
       "      <td>0.090429</td>\n",
       "      <td>-0.004944</td>\n",
       "      <td>1.000000</td>\n",
       "      <td>0.066550</td>\n",
       "      <td>0.018416</td>\n",
       "      <td>0.018417</td>\n",
       "      <td>0.020139</td>\n",
       "      <td>0.025461</td>\n",
       "      <td>0.027250</td>\n",
       "      <td>0.022987</td>\n",
       "      <td>-0.014630</td>\n",
       "    </tr>\n",
       "    <tr>\n",
       "      <th>annual_inc</th>\n",
       "      <td>0.308825</td>\n",
       "      <td>-0.072181</td>\n",
       "      <td>0.066550</td>\n",
       "      <td>1.000000</td>\n",
       "      <td>0.071232</td>\n",
       "      <td>0.071232</td>\n",
       "      <td>0.067647</td>\n",
       "      <td>0.061011</td>\n",
       "      <td>-0.139940</td>\n",
       "      <td>0.039222</td>\n",
       "      <td>-0.041264</td>\n",
       "    </tr>\n",
       "    <tr>\n",
       "      <th>fico_range_low</th>\n",
       "      <td>0.100273</td>\n",
       "      <td>-0.404812</td>\n",
       "      <td>0.018416</td>\n",
       "      <td>0.071232</td>\n",
       "      <td>1.000000</td>\n",
       "      <td>1.000000</td>\n",
       "      <td>0.344609</td>\n",
       "      <td>0.247186</td>\n",
       "      <td>-0.063013</td>\n",
       "      <td>-0.174261</td>\n",
       "      <td>-0.130411</td>\n",
       "    </tr>\n",
       "    <tr>\n",
       "      <th>fico_range_high</th>\n",
       "      <td>0.100272</td>\n",
       "      <td>-0.404809</td>\n",
       "      <td>0.018417</td>\n",
       "      <td>0.071232</td>\n",
       "      <td>1.000000</td>\n",
       "      <td>1.000000</td>\n",
       "      <td>0.344609</td>\n",
       "      <td>0.247186</td>\n",
       "      <td>-0.063015</td>\n",
       "      <td>-0.174259</td>\n",
       "      <td>-0.130410</td>\n",
       "    </tr>\n",
       "    <tr>\n",
       "      <th>last_fico_range_high</th>\n",
       "      <td>0.050442</td>\n",
       "      <td>-0.349116</td>\n",
       "      <td>0.020139</td>\n",
       "      <td>0.067647</td>\n",
       "      <td>0.344609</td>\n",
       "      <td>0.344609</td>\n",
       "      <td>1.000000</td>\n",
       "      <td>0.829817</td>\n",
       "      <td>-0.076326</td>\n",
       "      <td>-0.073979</td>\n",
       "      <td>-0.667444</td>\n",
       "    </tr>\n",
       "    <tr>\n",
       "      <th>last_fico_range_low</th>\n",
       "      <td>0.045929</td>\n",
       "      <td>-0.271934</td>\n",
       "      <td>0.025461</td>\n",
       "      <td>0.061011</td>\n",
       "      <td>0.247186</td>\n",
       "      <td>0.247186</td>\n",
       "      <td>0.829817</td>\n",
       "      <td>1.000000</td>\n",
       "      <td>-0.047330</td>\n",
       "      <td>-0.036923</td>\n",
       "      <td>-0.575764</td>\n",
       "    </tr>\n",
       "    <tr>\n",
       "      <th>dti</th>\n",
       "      <td>0.032920</td>\n",
       "      <td>0.147620</td>\n",
       "      <td>0.027250</td>\n",
       "      <td>-0.139940</td>\n",
       "      <td>-0.063013</td>\n",
       "      <td>-0.063015</td>\n",
       "      <td>-0.076326</td>\n",
       "      <td>-0.047330</td>\n",
       "      <td>1.000000</td>\n",
       "      <td>-0.007475</td>\n",
       "      <td>0.085058</td>\n",
       "    </tr>\n",
       "    <tr>\n",
       "      <th>delinq_2yrs</th>\n",
       "      <td>-0.003137</td>\n",
       "      <td>0.048601</td>\n",
       "      <td>0.022987</td>\n",
       "      <td>0.039222</td>\n",
       "      <td>-0.174261</td>\n",
       "      <td>-0.174259</td>\n",
       "      <td>-0.073979</td>\n",
       "      <td>-0.036923</td>\n",
       "      <td>-0.007475</td>\n",
       "      <td>1.000000</td>\n",
       "      <td>0.020406</td>\n",
       "    </tr>\n",
       "    <tr>\n",
       "      <th>loan_status</th>\n",
       "      <td>0.066338</td>\n",
       "      <td>0.258557</td>\n",
       "      <td>-0.014630</td>\n",
       "      <td>-0.041264</td>\n",
       "      <td>-0.130411</td>\n",
       "      <td>-0.130410</td>\n",
       "      <td>-0.667444</td>\n",
       "      <td>-0.575764</td>\n",
       "      <td>0.085058</td>\n",
       "      <td>0.020406</td>\n",
       "      <td>1.000000</td>\n",
       "    </tr>\n",
       "  </tbody>\n",
       "</table>\n",
       "</div>"
      ],
      "text/plain": [
       "                      funded_amnt  int_rate  emp_length  annual_inc  \\\n",
       "funded_amnt              1.000000  0.141893    0.090429    0.308825   \n",
       "int_rate                 0.141893  1.000000   -0.004944   -0.072181   \n",
       "emp_length               0.090429 -0.004944    1.000000    0.066550   \n",
       "annual_inc               0.308825 -0.072181    0.066550    1.000000   \n",
       "fico_range_low           0.100273 -0.404812    0.018416    0.071232   \n",
       "fico_range_high          0.100272 -0.404809    0.018417    0.071232   \n",
       "last_fico_range_high     0.050442 -0.349116    0.020139    0.067647   \n",
       "last_fico_range_low      0.045929 -0.271934    0.025461    0.061011   \n",
       "dti                      0.032920  0.147620    0.027250   -0.139940   \n",
       "delinq_2yrs             -0.003137  0.048601    0.022987    0.039222   \n",
       "loan_status              0.066338  0.258557   -0.014630   -0.041264   \n",
       "\n",
       "                      fico_range_low  fico_range_high  last_fico_range_high  \\\n",
       "funded_amnt                 0.100273         0.100272              0.050442   \n",
       "int_rate                   -0.404812        -0.404809             -0.349116   \n",
       "emp_length                  0.018416         0.018417              0.020139   \n",
       "annual_inc                  0.071232         0.071232              0.067647   \n",
       "fico_range_low              1.000000         1.000000              0.344609   \n",
       "fico_range_high             1.000000         1.000000              0.344609   \n",
       "last_fico_range_high        0.344609         0.344609              1.000000   \n",
       "last_fico_range_low         0.247186         0.247186              0.829817   \n",
       "dti                        -0.063013        -0.063015             -0.076326   \n",
       "delinq_2yrs                -0.174261        -0.174259             -0.073979   \n",
       "loan_status                -0.130411        -0.130410             -0.667444   \n",
       "\n",
       "                      last_fico_range_low       dti  delinq_2yrs  loan_status  \n",
       "funded_amnt                      0.045929  0.032920    -0.003137     0.066338  \n",
       "int_rate                        -0.271934  0.147620     0.048601     0.258557  \n",
       "emp_length                       0.025461  0.027250     0.022987    -0.014630  \n",
       "annual_inc                       0.061011 -0.139940     0.039222    -0.041264  \n",
       "fico_range_low                   0.247186 -0.063013    -0.174261    -0.130411  \n",
       "fico_range_high                  0.247186 -0.063015    -0.174259    -0.130410  \n",
       "last_fico_range_high             0.829817 -0.076326    -0.073979    -0.667444  \n",
       "last_fico_range_low              1.000000 -0.047330    -0.036923    -0.575764  \n",
       "dti                             -0.047330  1.000000    -0.007475     0.085058  \n",
       "delinq_2yrs                     -0.036923 -0.007475     1.000000     0.020406  \n",
       "loan_status                     -0.575764  0.085058     0.020406     1.000000  "
      ]
     },
     "execution_count": 80,
     "metadata": {},
     "output_type": "execute_result"
    }
   ],
   "source": [
    "cor"
   ]
  },
  {
   "cell_type": "code",
   "execution_count": 81,
   "metadata": {},
   "outputs": [
    {
     "data": {
      "text/plain": [
       "<matplotlib.axes._subplots.AxesSubplot at 0x136764d68>"
      ]
     },
     "execution_count": 81,
     "metadata": {},
     "output_type": "execute_result"
    },
    {
     "data": {
      "image/png": "[encoded data removed]",
      "text/plain": [
       "<Figure size 432x288 with 1 Axes>"
      ]
     },
     "metadata": {},
     "output_type": "display_data"
    }
   ],
   "source": [
    "sorted_cor = cor.sort_values(by=['loan_status'],ascending= False)\n",
    "sorted_cor = sorted_cor['loan_status'].plot(kind='bar')\n",
    "plt.ylabel(\"Correlation Score\")\n",
    "sorted_cor"
   ]
  },
  {
   "cell_type": "code",
   "execution_count": 33,
   "metadata": {},
   "outputs": [
    {
     "name": "stdout",
     "output_type": "stream",
     "text": [
      "emp_title         0.063820\n",
      "emp_length        0.058392\n",
      "title             0.012379\n",
      "dti               0.000280\n",
      "purpose           0.000000\n",
      "int_rate          0.000000\n",
      "grade             0.000000\n",
      "sub_grade         0.000000\n",
      "home_ownership    0.000000\n",
      "annual_inc        0.000000\n",
      "dtype: float64\n"
     ]
    },
    {
     "data": {
      "text/plain": [
       "Text(0, 0.5, 'Number of Entries')"
      ]
     },
     "execution_count": 33,
     "metadata": {},
     "output_type": "execute_result"
    },
    {
     "data": {
      "image/png": "[encoded data removed]",
      "text/plain": [
       "<Figure size 432x288 with 1 Axes>"
      ]
     },
     "metadata": {},
     "output_type": "display_data"
    }
   ],
   "source": [
    " # Number of missing data values (NaN)\n",
    "totNA = df_train[cols].isnull().sum().sum() # in total \n",
    "colNA = df_train[cols].isnull().sum(axis=0) # by column \n",
    "rowNA = df_train[cols].isnull().sum(axis=1) # by row\n",
    "missing_rate = colNA/df_train[cols].shape[0]\n",
    "top_missing = missing_rate.sort_values(ascending=False)[0:10] \n",
    "print(top_missing) # by column\n",
    "missing_rate = rowNA\n",
    "top_missing = rowNA.sort_values(ascending=False)[0:10]\n",
    "top_missing # by row\n",
    "plt.hist(rowNA)\n",
    "plt.title(\"Histogram of Number of Missing Covariate Data\") \n",
    "plt.xlabel(\"Number of Missing Entries\") \n",
    "plt.ylabel(\"Number of Entries\")"
   ]
  },
  {
   "cell_type": "code",
   "execution_count": 93,
   "metadata": {},
   "outputs": [],
   "source": [
    "#Create design matrix\n",
    "df_train = df_train.dropna()\n",
    "Y_tr = df_train[['loan_status']]\n",
    "Y_te = df_test[['loan_status']]\n",
    "X_tr = df_train[cols]\n",
    "X_te = df_test[cols]"
   ]
  },
  {
   "cell_type": "code",
   "execution_count": 94,
   "metadata": {},
   "outputs": [
    {
     "name": "stdout",
     "output_type": "stream",
     "text": [
      "(0, 1) (0, 21)\n",
      "(269070, 1) (269070, 21)\n"
     ]
    }
   ],
   "source": [
    "print(Y_tr.shape, X_tr.shape)\n",
    "print(Y_te.shape, X_te.shape)"
   ]
  },
  {
   "cell_type": "code",
   "execution_count": 66,
   "metadata": {},
   "outputs": [
    {
     "data": {
      "text/plain": [
       "Index(['funded_amnt', 'int_rate', 'emp_length', 'annual_inc', 'fico_range_low',\n",
       "       'fico_range_high', 'last_fico_range_high', 'last_fico_range_low', 'dti',\n",
       "       'delinq_2yrs'],\n",
       "      dtype='object')"
      ]
     },
     "execution_count": 66,
     "metadata": {},
     "output_type": "execute_result"
    }
   ],
   "source": [
    "float_cols = (X_tr.dtypes == np.float64)\n",
    "cols[float_cols].index"
   ]
  },
  {
   "cell_type": "code",
   "execution_count": 67,
   "metadata": {
    "scrolled": false
   },
   "outputs": [
    {
     "name": "stderr",
     "output_type": "stream",
     "text": [
      "/Users/amandabrown/anaconda3/lib/python3.6/site-packages/numpy/lib/histograms.py:839: RuntimeWarning: invalid value encountered in greater_equal\n",
      "  keep = (tmp_a >= first_edge)\n",
      "/Users/amandabrown/anaconda3/lib/python3.6/site-packages/numpy/lib/histograms.py:840: RuntimeWarning: invalid value encountered in less_equal\n",
      "  keep &= (tmp_a <= last_edge)\n"
     ]
    },
    {
     "data": {
      "image/png": "[encoded data removed]",
      "text/plain": [
       "<Figure size 1440x1440 with 10 Axes>"
      ]
     },
     "metadata": {},
     "output_type": "display_data"
    }
   ],
   "source": [
    "#Make the graph 20 inches by 40 inches\n",
    "plt.figure(figsize=(20,20), facecolor='white')\n",
    "# plot numbering starts at 1, not 0\n",
    "plot_number = 1\n",
    "float_cols = (X_tr.dtypes == np.float64)\n",
    "\n",
    "for i in cols[float_cols].index:\n",
    "    ax = plt.subplot(4,6, plot_number) \n",
    "    plt.hist(X_tr[i]) \n",
    "    ax.set_title(i)\n",
    "    # Go to the next plot for the next loop \n",
    "    plot_number = plot_number + 1\n",
    "plt.tight_layout()"
   ]
  },
  {
   "cell_type": "markdown",
   "metadata": {},
   "source": [
    "Need to log-transform DTI and annual income... maybe also funded amt, int_rate"
   ]
  },
  {
   "cell_type": "markdown",
   "metadata": {},
   "source": [
    "Shuffle the data"
   ]
  },
  {
   "cell_type": "code",
   "execution_count": 68,
   "metadata": {},
   "outputs": [],
   "source": [
    "X_tr, Y_tr = shuffle(X_tr,Y_tr,random_state=0)"
   ]
  },
  {
   "cell_type": "code",
   "execution_count": 74,
   "metadata": {},
   "outputs": [
    {
     "ename": "TypeError",
     "evalue": "ufunc 'isnan' not supported for the input types, and the inputs could not be safely coerced to any supported types according to the casting rule ''safe''",
     "output_type": "error",
     "traceback": [
      "\u001b[0;31m---------------------------------------------------------------------------\u001b[0m",
      "\u001b[0;31mTypeError\u001b[0m                                 Traceback (most recent call last)",
      "\u001b[0;32m<ipython-input-74-e0ae28ebbfa9>\u001b[0m in \u001b[0;36m<module>\u001b[0;34m()\u001b[0m\n\u001b[0;32m----> 1\u001b[0;31m \u001b[0mnp\u001b[0m\u001b[0;34m.\u001b[0m\u001b[0many\u001b[0m\u001b[0;34m(\u001b[0m\u001b[0mnp\u001b[0m\u001b[0;34m.\u001b[0m\u001b[0misnan\u001b[0m\u001b[0;34m(\u001b[0m\u001b[0mX_tr\u001b[0m\u001b[0;34m)\u001b[0m\u001b[0;34m)\u001b[0m\u001b[0;34m\u001b[0m\u001b[0m\n\u001b[0m",
      "\u001b[0;31mTypeError\u001b[0m: ufunc 'isnan' not supported for the input types, and the inputs could not be safely coerced to any supported types according to the casting rule ''safe''"
     ]
    }
   ],
   "source": [
    "np.any(np.isnan(X_tr))"
   ]
  },
  {
   "cell_type": "markdown",
   "metadata": {},
   "source": [
    "Apply a standard scaler"
   ]
  },
  {
   "cell_type": "code",
   "execution_count": 76,
   "metadata": {},
   "outputs": [
    {
     "name": "stdout",
     "output_type": "stream",
     "text": [
      "True\n"
     ]
    },
    {
     "ename": "ValueError",
     "evalue": "Input contains NaN, infinity or a value too large for dtype('float64').",
     "output_type": "error",
     "traceback": [
      "\u001b[0;31m---------------------------------------------------------------------------\u001b[0m",
      "\u001b[0;31mValueError\u001b[0m                                Traceback (most recent call last)",
      "\u001b[0;32m<ipython-input-76-3f309042011f>\u001b[0m in \u001b[0;36m<module>\u001b[0;34m()\u001b[0m\n\u001b[1;32m      2\u001b[0m \u001b[0mprint\u001b[0m\u001b[0;34m(\u001b[0m\u001b[0mnp\u001b[0m\u001b[0;34m.\u001b[0m\u001b[0many\u001b[0m\u001b[0;34m(\u001b[0m\u001b[0mnp\u001b[0m\u001b[0;34m.\u001b[0m\u001b[0misnan\u001b[0m\u001b[0;34m(\u001b[0m\u001b[0mX_tr_tfm\u001b[0m\u001b[0;34m)\u001b[0m\u001b[0;34m)\u001b[0m\u001b[0;34m)\u001b[0m\u001b[0;34m\u001b[0m\u001b[0m\n\u001b[1;32m      3\u001b[0m \u001b[0msc\u001b[0m \u001b[0;34m=\u001b[0m \u001b[0mStandardScaler\u001b[0m\u001b[0;34m(\u001b[0m\u001b[0;34m)\u001b[0m\u001b[0;34m\u001b[0m\u001b[0m\n\u001b[0;32m----> 4\u001b[0;31m \u001b[0mX_tr_tfm\u001b[0m \u001b[0;34m=\u001b[0m \u001b[0msc\u001b[0m\u001b[0;34m.\u001b[0m\u001b[0mfit_transform\u001b[0m\u001b[0;34m(\u001b[0m\u001b[0mX_tr_tfm\u001b[0m\u001b[0;34m)\u001b[0m\u001b[0;34m\u001b[0m\u001b[0m\n\u001b[0m\u001b[1;32m      5\u001b[0m \u001b[0mX_tr_tfm\u001b[0m \u001b[0;34m=\u001b[0m \u001b[0mpd\u001b[0m\u001b[0;34m.\u001b[0m\u001b[0mDataFrame\u001b[0m\u001b[0;34m(\u001b[0m\u001b[0mX_tr_tfm\u001b[0m\u001b[0;34m)\u001b[0m\u001b[0;34m\u001b[0m\u001b[0m\n",
      "\u001b[0;32m~/anaconda3/lib/python3.6/site-packages/sklearn/base.py\u001b[0m in \u001b[0;36mfit_transform\u001b[0;34m(self, X, y, **fit_params)\u001b[0m\n\u001b[1;32m    515\u001b[0m         \u001b[0;32mif\u001b[0m \u001b[0my\u001b[0m \u001b[0;32mis\u001b[0m \u001b[0;32mNone\u001b[0m\u001b[0;34m:\u001b[0m\u001b[0;34m\u001b[0m\u001b[0m\n\u001b[1;32m    516\u001b[0m             \u001b[0;31m# fit method of arity 1 (unsupervised transformation)\u001b[0m\u001b[0;34m\u001b[0m\u001b[0;34m\u001b[0m\u001b[0m\n\u001b[0;32m--> 517\u001b[0;31m             \u001b[0;32mreturn\u001b[0m \u001b[0mself\u001b[0m\u001b[0;34m.\u001b[0m\u001b[0mfit\u001b[0m\u001b[0;34m(\u001b[0m\u001b[0mX\u001b[0m\u001b[0;34m,\u001b[0m \u001b[0;34m**\u001b[0m\u001b[0mfit_params\u001b[0m\u001b[0;34m)\u001b[0m\u001b[0;34m.\u001b[0m\u001b[0mtransform\u001b[0m\u001b[0;34m(\u001b[0m\u001b[0mX\u001b[0m\u001b[0;34m)\u001b[0m\u001b[0;34m\u001b[0m\u001b[0m\n\u001b[0m\u001b[1;32m    518\u001b[0m         \u001b[0;32melse\u001b[0m\u001b[0;34m:\u001b[0m\u001b[0;34m\u001b[0m\u001b[0m\n\u001b[1;32m    519\u001b[0m             \u001b[0;31m# fit method of arity 2 (supervised transformation)\u001b[0m\u001b[0;34m\u001b[0m\u001b[0;34m\u001b[0m\u001b[0m\n",
      "\u001b[0;32m~/anaconda3/lib/python3.6/site-packages/sklearn/preprocessing/data.py\u001b[0m in \u001b[0;36mfit\u001b[0;34m(self, X, y)\u001b[0m\n\u001b[1;32m    588\u001b[0m         \u001b[0;31m# Reset internal state before fitting\u001b[0m\u001b[0;34m\u001b[0m\u001b[0;34m\u001b[0m\u001b[0m\n\u001b[1;32m    589\u001b[0m         \u001b[0mself\u001b[0m\u001b[0;34m.\u001b[0m\u001b[0m_reset\u001b[0m\u001b[0;34m(\u001b[0m\u001b[0;34m)\u001b[0m\u001b[0;34m\u001b[0m\u001b[0m\n\u001b[0;32m--> 590\u001b[0;31m         \u001b[0;32mreturn\u001b[0m \u001b[0mself\u001b[0m\u001b[0;34m.\u001b[0m\u001b[0mpartial_fit\u001b[0m\u001b[0;34m(\u001b[0m\u001b[0mX\u001b[0m\u001b[0;34m,\u001b[0m \u001b[0my\u001b[0m\u001b[0;34m)\u001b[0m\u001b[0;34m\u001b[0m\u001b[0m\n\u001b[0m\u001b[1;32m    591\u001b[0m \u001b[0;34m\u001b[0m\u001b[0m\n\u001b[1;32m    592\u001b[0m     \u001b[0;32mdef\u001b[0m \u001b[0mpartial_fit\u001b[0m\u001b[0;34m(\u001b[0m\u001b[0mself\u001b[0m\u001b[0;34m,\u001b[0m \u001b[0mX\u001b[0m\u001b[0;34m,\u001b[0m \u001b[0my\u001b[0m\u001b[0;34m=\u001b[0m\u001b[0;32mNone\u001b[0m\u001b[0;34m)\u001b[0m\u001b[0;34m:\u001b[0m\u001b[0;34m\u001b[0m\u001b[0m\n",
      "\u001b[0;32m~/anaconda3/lib/python3.6/site-packages/sklearn/preprocessing/data.py\u001b[0m in \u001b[0;36mpartial_fit\u001b[0;34m(self, X, y)\u001b[0m\n\u001b[1;32m    610\u001b[0m         \"\"\"\n\u001b[1;32m    611\u001b[0m         X = check_array(X, accept_sparse=('csr', 'csc'), copy=self.copy,\n\u001b[0;32m--> 612\u001b[0;31m                         warn_on_dtype=True, estimator=self, dtype=FLOAT_DTYPES)\n\u001b[0m\u001b[1;32m    613\u001b[0m \u001b[0;34m\u001b[0m\u001b[0m\n\u001b[1;32m    614\u001b[0m         \u001b[0;31m# Even in the case of `with_mean=False`, we update the mean anyway\u001b[0m\u001b[0;34m\u001b[0m\u001b[0;34m\u001b[0m\u001b[0m\n",
      "\u001b[0;32m~/anaconda3/lib/python3.6/site-packages/sklearn/utils/validation.py\u001b[0m in \u001b[0;36mcheck_array\u001b[0;34m(array, accept_sparse, dtype, order, copy, force_all_finite, ensure_2d, allow_nd, ensure_min_samples, ensure_min_features, warn_on_dtype, estimator)\u001b[0m\n\u001b[1;32m    451\u001b[0m                              % (array.ndim, estimator_name))\n\u001b[1;32m    452\u001b[0m         \u001b[0;32mif\u001b[0m \u001b[0mforce_all_finite\u001b[0m\u001b[0;34m:\u001b[0m\u001b[0;34m\u001b[0m\u001b[0m\n\u001b[0;32m--> 453\u001b[0;31m             \u001b[0m_assert_all_finite\u001b[0m\u001b[0;34m(\u001b[0m\u001b[0marray\u001b[0m\u001b[0;34m)\u001b[0m\u001b[0;34m\u001b[0m\u001b[0m\n\u001b[0m\u001b[1;32m    454\u001b[0m \u001b[0;34m\u001b[0m\u001b[0m\n\u001b[1;32m    455\u001b[0m     \u001b[0mshape_repr\u001b[0m \u001b[0;34m=\u001b[0m \u001b[0m_shape_repr\u001b[0m\u001b[0;34m(\u001b[0m\u001b[0marray\u001b[0m\u001b[0;34m.\u001b[0m\u001b[0mshape\u001b[0m\u001b[0;34m)\u001b[0m\u001b[0;34m\u001b[0m\u001b[0m\n",
      "\u001b[0;32m~/anaconda3/lib/python3.6/site-packages/sklearn/utils/validation.py\u001b[0m in \u001b[0;36m_assert_all_finite\u001b[0;34m(X)\u001b[0m\n\u001b[1;32m     42\u001b[0m             and not np.isfinite(X).all()):\n\u001b[1;32m     43\u001b[0m         raise ValueError(\"Input contains NaN, infinity\"\n\u001b[0;32m---> 44\u001b[0;31m                          \" or a value too large for %r.\" % X.dtype)\n\u001b[0m\u001b[1;32m     45\u001b[0m \u001b[0;34m\u001b[0m\u001b[0m\n\u001b[1;32m     46\u001b[0m \u001b[0;34m\u001b[0m\u001b[0m\n",
      "\u001b[0;31mValueError\u001b[0m: Input contains NaN, infinity or a value too large for dtype('float64')."
     ]
    }
   ],
   "source": [
    "X_tr_tfm = X_tr[cols[float_cols].index]\n",
    "print(np.any(np.isnan(X_tr_tfm)))\n",
    "sc = StandardScaler()\n",
    "X_tr_tfm = sc.fit_transform(X_tr_tfm)\n",
    "X_tr_tfm = pd.DataFrame(X_tr_tfm)"
   ]
  },
  {
   "cell_type": "code",
   "execution_count": 71,
   "metadata": {},
   "outputs": [
    {
     "ename": "ValueError",
     "evalue": "could not convert string to float: 'D'",
     "output_type": "error",
     "traceback": [
      "\u001b[0;31m---------------------------------------------------------------------------\u001b[0m",
      "\u001b[0;31mValueError\u001b[0m                                Traceback (most recent call last)",
      "\u001b[0;32m<ipython-input-71-fe77fc23518a>\u001b[0m in \u001b[0;36m<module>\u001b[0;34m()\u001b[0m\n\u001b[0;32m----> 1\u001b[0;31m \u001b[0mfm1\u001b[0m \u001b[0;34m=\u001b[0m \u001b[0mLinearRegression\u001b[0m\u001b[0;34m(\u001b[0m\u001b[0;34m)\u001b[0m\u001b[0;34m.\u001b[0m\u001b[0mfit\u001b[0m\u001b[0;34m(\u001b[0m\u001b[0mX_tr\u001b[0m\u001b[0;34m,\u001b[0m \u001b[0mY_tr\u001b[0m\u001b[0;34m)\u001b[0m\u001b[0;34m\u001b[0m\u001b[0m\n\u001b[0m",
      "\u001b[0;32m~/anaconda3/lib/python3.6/site-packages/sklearn/linear_model/base.py\u001b[0m in \u001b[0;36mfit\u001b[0;34m(self, X, y, sample_weight)\u001b[0m\n\u001b[1;32m    480\u001b[0m         \u001b[0mn_jobs_\u001b[0m \u001b[0;34m=\u001b[0m \u001b[0mself\u001b[0m\u001b[0;34m.\u001b[0m\u001b[0mn_jobs\u001b[0m\u001b[0;34m\u001b[0m\u001b[0m\n\u001b[1;32m    481\u001b[0m         X, y = check_X_y(X, y, accept_sparse=['csr', 'csc', 'coo'],\n\u001b[0;32m--> 482\u001b[0;31m                          y_numeric=True, multi_output=True)\n\u001b[0m\u001b[1;32m    483\u001b[0m \u001b[0;34m\u001b[0m\u001b[0m\n\u001b[1;32m    484\u001b[0m         \u001b[0;32mif\u001b[0m \u001b[0msample_weight\u001b[0m \u001b[0;32mis\u001b[0m \u001b[0;32mnot\u001b[0m \u001b[0;32mNone\u001b[0m \u001b[0;32mand\u001b[0m \u001b[0mnp\u001b[0m\u001b[0;34m.\u001b[0m\u001b[0matleast_1d\u001b[0m\u001b[0;34m(\u001b[0m\u001b[0msample_weight\u001b[0m\u001b[0;34m)\u001b[0m\u001b[0;34m.\u001b[0m\u001b[0mndim\u001b[0m \u001b[0;34m>\u001b[0m \u001b[0;36m1\u001b[0m\u001b[0;34m:\u001b[0m\u001b[0;34m\u001b[0m\u001b[0m\n",
      "\u001b[0;32m~/anaconda3/lib/python3.6/site-packages/sklearn/utils/validation.py\u001b[0m in \u001b[0;36mcheck_X_y\u001b[0;34m(X, y, accept_sparse, dtype, order, copy, force_all_finite, ensure_2d, allow_nd, multi_output, ensure_min_samples, ensure_min_features, y_numeric, warn_on_dtype, estimator)\u001b[0m\n\u001b[1;32m    571\u001b[0m     X = check_array(X, accept_sparse, dtype, order, copy, force_all_finite,\n\u001b[1;32m    572\u001b[0m                     \u001b[0mensure_2d\u001b[0m\u001b[0;34m,\u001b[0m \u001b[0mallow_nd\u001b[0m\u001b[0;34m,\u001b[0m \u001b[0mensure_min_samples\u001b[0m\u001b[0;34m,\u001b[0m\u001b[0;34m\u001b[0m\u001b[0m\n\u001b[0;32m--> 573\u001b[0;31m                     ensure_min_features, warn_on_dtype, estimator)\n\u001b[0m\u001b[1;32m    574\u001b[0m     \u001b[0;32mif\u001b[0m \u001b[0mmulti_output\u001b[0m\u001b[0;34m:\u001b[0m\u001b[0;34m\u001b[0m\u001b[0m\n\u001b[1;32m    575\u001b[0m         y = check_array(y, 'csr', force_all_finite=True, ensure_2d=False,\n",
      "\u001b[0;32m~/anaconda3/lib/python3.6/site-packages/sklearn/utils/validation.py\u001b[0m in \u001b[0;36mcheck_array\u001b[0;34m(array, accept_sparse, dtype, order, copy, force_all_finite, ensure_2d, allow_nd, ensure_min_samples, ensure_min_features, warn_on_dtype, estimator)\u001b[0m\n\u001b[1;32m    446\u001b[0m         \u001b[0;31m# make sure we actually converted to numeric:\u001b[0m\u001b[0;34m\u001b[0m\u001b[0;34m\u001b[0m\u001b[0m\n\u001b[1;32m    447\u001b[0m         \u001b[0;32mif\u001b[0m \u001b[0mdtype_numeric\u001b[0m \u001b[0;32mand\u001b[0m \u001b[0marray\u001b[0m\u001b[0;34m.\u001b[0m\u001b[0mdtype\u001b[0m\u001b[0;34m.\u001b[0m\u001b[0mkind\u001b[0m \u001b[0;34m==\u001b[0m \u001b[0;34m\"O\"\u001b[0m\u001b[0;34m:\u001b[0m\u001b[0;34m\u001b[0m\u001b[0m\n\u001b[0;32m--> 448\u001b[0;31m             \u001b[0marray\u001b[0m \u001b[0;34m=\u001b[0m \u001b[0marray\u001b[0m\u001b[0;34m.\u001b[0m\u001b[0mastype\u001b[0m\u001b[0;34m(\u001b[0m\u001b[0mnp\u001b[0m\u001b[0;34m.\u001b[0m\u001b[0mfloat64\u001b[0m\u001b[0;34m)\u001b[0m\u001b[0;34m\u001b[0m\u001b[0m\n\u001b[0m\u001b[1;32m    449\u001b[0m         \u001b[0;32mif\u001b[0m \u001b[0;32mnot\u001b[0m \u001b[0mallow_nd\u001b[0m \u001b[0;32mand\u001b[0m \u001b[0marray\u001b[0m\u001b[0;34m.\u001b[0m\u001b[0mndim\u001b[0m \u001b[0;34m>=\u001b[0m \u001b[0;36m3\u001b[0m\u001b[0;34m:\u001b[0m\u001b[0;34m\u001b[0m\u001b[0m\n\u001b[1;32m    450\u001b[0m             raise ValueError(\"Found array with dim %d. %s expected <= 2.\"\n",
      "\u001b[0;31mValueError\u001b[0m: could not convert string to float: 'D'"
     ]
    }
   ],
   "source": [
    "fm1 = LinearRegression().fit(X_tr, Y_tr)"
   ]
  },
  {
   "cell_type": "code",
   "execution_count": null,
   "metadata": {},
   "outputs": [],
   "source": [
    "fm2 = Lasso(alpha=0.1).fit(X_tr_tfm, Y_tr)\n",
    "fm3 = Lasso(alpha=1).fit(X_tr_tfm, Y_tr)\n",
    "fm4 = Lasso(alpha=10).fit(X_tr_tfm, Y_tr)\n",
    "fm5 = Lasso(alpha=100).fit(X_tr_tfm, Y_tr)"
   ]
  },
  {
   "cell_type": "code",
   "execution_count": null,
   "metadata": {},
   "outputs": [],
   "source": [
    "z = np.vstack((fm4.coef_,X_tr.columns))\n",
    "coefs = pd.DataFrame({'Coefficients': fm4.coef_, 'Covariates': X_tr.columns}, columns=['Coefficients', 'Covariates'])\n",
    "coefs.set_index(\"Covariates\", inplace = True)"
   ]
  },
  {
   "cell_type": "code",
   "execution_count": null,
   "metadata": {},
   "outputs": [],
   "source": [
    "fig = plt.figure(figsize=(20,10), facecolor='white')\n",
    "plt.scatter(coefs.index , coefs['Coefficients'])\n",
    "plt.xticks(rotation=90)\n",
    "plt.ylabel(\"Coefficient\")\n",
    "plt.show()"
   ]
  },
  {
   "cell_type": "markdown",
   "metadata": {},
   "source": [
    "- before running the baseline, pick which columns we want to use (pick the maximal set)\n",
    "- figure out what category buckets will be\n",
    "- one hot encoding\n",
    "- "
   ]
  }
 ],
 "metadata": {
  "kernelspec": {
   "display_name": "Python 3",
   "language": "python",
   "name": "python3"
  },
  "language_info": {
   "codemirror_mode": {
    "name": "ipython",
    "version": 3
   },
   "file_extension": ".py",
   "mimetype": "text/x-python",
   "name": "python",
   "nbconvert_exporter": "python",
   "pygments_lexer": "ipython3",
   "version": "3.6.4"
  }
 },
 "nbformat": 4,
 "nbformat_minor": 2
}
