{
 "cells": [
  {
   "cell_type": "code",
   "execution_count": 52,
   "metadata": {},
   "outputs": [],
   "source": [
    "from gensim.models import Word2Vec\n",
    " \n",
    "from nltk.cluster import KMeansClusterer\n",
    "import nltk\n",
    " \n",
    "from sklearn import cluster\n",
    "from sklearn import metrics\n",
    "\n",
    "df = pickle.load(( open( \"Xplore.pkl\", \"rb\" ) ))\n",
    "df[\"emp_title\"] = df[\"emp_title\"].fillna(\"\")\n",
    "\n",
    "data = df[\"emp_title\"].str.lower().to_list()"
   ]
  },
  {
   "cell_type": "code",
   "execution_count": 53,
   "metadata": {},
   "outputs": [
    {
     "name": "stderr",
     "output_type": "stream",
     "text": [
      "/Users/amandabrown/anaconda3/lib/python3.6/site-packages/ipykernel_launcher.py:11: DeprecationWarning: Call to deprecated `__getitem__` (Method will be removed in 4.0.0, use self.wv.__getitem__() instead).\n",
      "  # This is added back by InteractiveShellApp.init_path()\n"
     ]
    },
    {
     "name": "stdout",
     "output_type": "stream",
     "text": [
      "[11, 17, 21, 13, 0, 21, 19, 9, 7, 17, 4, 23, 20, 10, 13, 6, 20, 7, 3, 23, 12, 5, 8, 14, 6, 5, 2, 16, 7, 22, 4, 10, 20, 17, 16, 8, 13, 21, 18, 12, 9, 20, 17, 12, 15, 21, 18, 20, 14, 12, 20, 0, 15, 13, 16, 4, 9, 9, 6, 12, 1, 6, 1, 3, 18, 22, 2, 1, 12, 3, 16, 13, 23, 8, 23, 12, 20, 18, 0, 3, 12, 6, 11, 18, 6, 13, 13, 5, 13, 1, 9, 9, 20, 10, 23, 1, 15, 8, 5, 17, 21, 19, 7, 15, 8, 4, 15, 11, 0, 4, 12, 5, 4, 0, 2, 18, 7, 6, 22, 10, 23, 1, 19, 1, 3, 23, 10, 10, 21, 11, 5, 19, 10, 13, 0, 12, 4, 2, 18, 3, 18, 14, 2, 12, 18, 9, 14, 0, 14, 10, 10, 1, 12, 21, 10, 19, 15, 1, 7, 1, 12, 3, 7, 9, 2, 2, 4, 22, 9, 11, 22, 11, 19, 5, 8, 5, 0, 7, 18, 15, 3, 16, 10, 5, 1, 14, 20, 9, 1, 8, 3, 9, 6, 18, 21, 3, 19, 2, 4, 23, 20, 22, 6, 15, 23, 3, 8, 19, 10, 9, 10, 8, 12, 9, 23, 17, 7, 22, 7, 7, 16, 14, 5, 8, 24, 16, 22, 9, 14, 12, 17, 17, 2, 0, 7, 14, 7, 11, 9, 15, 24, 21, 5, 7, 12, 3, 11, 21, 11, 20, 6, 19, 15, 17, 18, 18, 24, 14, 24, 6, 23, 5, 21, 5, 15, 18, 8, 16, 13, 3, 14, 1, 11, 22, 19, 11, 8, 6, 8, 7, 15, 1, 14, 22, 13, 22, 24, 13, 6, 14, 20, 16, 17, 21, 2, 15, 19, 7, 20, 17, 22, 10, 18, 3, 7, 22, 3, 7, 4, 23, 4, 10, 9, 9, 2, 22, 16, 6, 7, 8, 12, 15, 15, 5, 3, 22, 10, 2, 20, 22, 16, 13, 18, 13, 7, 9, 17, 5, 23, 0, 16, 0, 22, 13, 5, 16, 4, 9, 7, 24, 21, 6, 6, 5, 23, 4, 2, 7, 19, 16, 15, 17, 17, 10, 13, 9, 17, 14, 17, 10, 21, 2, 9, 1, 15, 24, 6, 17, 21, 19, 12, 10, 20, 16, 15, 16, 23, 9, 3, 18, 23, 7, 19, 2, 9, 18, 14, 14, 3, 0, 3, 14, 6, 18, 13, 13, 19, 14, 6, 22, 12, 14, 8, 22, 10, 20, 22, 3, 18, 12, 1, 8, 9, 9, 1, 0, 15, 17, 21, 12, 15, 9, 21, 21, 16, 5, 14, 9, 0, 18, 11, 7, 7, 5, 5, 12, 22, 15, 0, 19, 8, 2, 4, 10, 14, 11, 4, 18, 23, 8, 13, 22, 16, 18, 0, 8, 18, 5, 18, 4, 24, 10, 1, 17, 19, 15, 4, 3, 16, 0, 6, 20, 19, 23, 15, 8, 12, 6, 8, 13, 0, 0, 18, 19, 0, 2, 23, 23, 23, 22, 2, 4, 17, 5, 19, 11, 15, 21, 11, 3, 20, 5, 24, 24, 20, 8, 23, 6, 21, 11, 20, 16, 10, 6, 1, 21, 21, 13, 21, 8, 7, 14, 18, 2, 14, 7, 4, 14, 19, 18, 17, 22, 15, 22, 22, 14, 17, 7, 4, 21, 16, 15, 2, 21, 5, 6, 22, 21, 18, 10, 14, 21, 23, 22, 16, 2, 13, 22, 14, 10, 1, 24, 19, 4, 12, 19, 19, 8, 17, 3, 19, 6, 13, 1, 20, 10, 24, 20, 18, 13, 15, 22, 4, 20, 6, 10, 11, 1, 22, 18, 12, 21, 4, 6, 21, 22, 8, 23, 16, 7, 14, 13, 0, 14, 24, 14, 13, 9, 0, 3, 4, 16, 5, 2, 24, 18, 0, 12, 22, 18, 20, 14, 19, 6, 5, 19, 16, 14, 11, 2, 1, 19, 3, 12, 5, 17, 14, 24, 6, 21, 4, 17, 19, 2, 19, 8, 14, 16, 1, 11, 8, 12, 18, 24, 21, 22, 1, 11, 3, 18, 22, 23, 16, 24, 8, 15, 21, 18, 9, 15, 0, 5, 1, 16, 8, 21, 23, 10, 19, 1, 14, 3, 8, 5, 9, 4, 1, 0, 9, 9, 4, 10, 17, 2, 12, 16, 10, 11, 15, 20, 21, 12]\n"
     ]
    }
   ],
   "source": [
    "# training data (select N)\n",
    "N=1000\n",
    "# number of clusters\n",
    "n_c = 25\n",
    "data = [data[0:N]]\n",
    " \n",
    "#training model\n",
    "model = Word2Vec(data, min_count=1)\n",
    " \n",
    "# get vector data\n",
    "X = model[model.wv.vocab]\n",
    " \n",
    "kclusterer = KMeansClusterer(n_c, distance=nltk.cluster.util.cosine_distance, repeats=25)\n",
    "assigned_clusters = kclusterer.cluster(X, assign_clusters=True)\n",
    "print (assigned_clusters)\n",
    " \n",
    "#words = list(model.wv.vocab)\n",
    "#for i, word in enumerate(words):  \n",
    "#    print (word + \":\" + str(assigned_clusters[i]))\n",
    "kmeans = cluster.KMeans(n_clusters=n_c)\n",
    "kmeans.fit(X)\n",
    " \n",
    "labels = kmeans.labels_\n",
    "centroids = kmeans.cluster_centers_"
   ]
  },
  {
   "cell_type": "code",
   "execution_count": 60,
   "metadata": {},
   "outputs": [
    {
     "name": "stdout",
     "output_type": "stream",
     "text": [
      "analyst\n",
      "bank officer senior customer care spec.\n",
      "site lead\n",
      "accountant\n",
      "senior associate\n",
      "team lead, quality engineer\n",
      "accounts payable manager\n",
      "software engineer\n",
      "officer / sheriff's office\n",
      "sw\n",
      "registered nurse\n",
      "human resources\n",
      "quality assurance wings\n"
     ]
    }
   ],
   "source": [
    "for i, word in enumerate(words):  \n",
    "    if assigned_clusters[i]==12:\n",
    "        print (word)"
   ]
  },
  {
   "cell_type": "code",
   "execution_count": null,
   "metadata": {},
   "outputs": [],
   "source": []
  }
 ],
 "metadata": {
  "kernelspec": {
   "display_name": "Python 3",
   "language": "python",
   "name": "python3"
  },
  "language_info": {
   "codemirror_mode": {
    "name": "ipython",
    "version": 3
   },
   "file_extension": ".py",
   "mimetype": "text/x-python",
   "name": "python",
   "nbconvert_exporter": "python",
   "pygments_lexer": "ipython3",
   "version": "3.6.4"
  }
 },
 "nbformat": 4,
 "nbformat_minor": 2
}
