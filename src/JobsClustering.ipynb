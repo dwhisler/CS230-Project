{
 "cells": [
  {
   "cell_type": "code",
   "execution_count": 38,
   "metadata": {},
   "outputs": [],
   "source": [
    "from gensim.models import Word2Vec\n",
    " \n",
    "from nltk.cluster import KMeansClusterer\n",
    "import nltk\n",
    "import pickle\n",
    "from sklearn import cluster\n",
    "from sklearn import metrics\n",
    "\n",
    "df = pickle.load(( open( \"Xplore.pkl\", \"rb\" ) ))\n",
    "df[\"emp_title\"] = df[\"emp_title\"].fillna(\"\")\n",
    "\n",
    "data = df[\"emp_title\"].str.lower().to_list()"
   ]
  },
  {
   "cell_type": "code",
   "execution_count": 39,
   "metadata": {},
   "outputs": [],
   "source": [
    "# training data (select N)\n",
    "N=10000\n",
    "# number of clusters\n",
    "n_c = 100\n",
    "data = [data[0:N]]\n",
    " \n",
    "#training model\n",
    "model = Word2Vec(data, min_count=1)"
   ]
  },
  {
   "cell_type": "code",
   "execution_count": 40,
   "metadata": {},
   "outputs": [
    {
     "name": "stderr",
     "output_type": "stream",
     "text": [
      "/Users/amandabrown/anaconda3/lib/python3.6/site-packages/ipykernel_launcher.py:2: DeprecationWarning: Call to deprecated `__getitem__` (Method will be removed in 4.0.0, use self.wv.__getitem__() instead).\n",
      "  \n"
     ]
    }
   ],
   "source": [
    "# get vector data\n",
    "X = model[model.wv.vocab]"
   ]
  },
  {
   "cell_type": "code",
   "execution_count": 41,
   "metadata": {},
   "outputs": [],
   "source": [
    "kclusterer = KMeansClusterer(n_c, distance=nltk.cluster.util.cosine_distance, repeats=10)\n",
    "assigned_clusters = kclusterer.cluster(X, assign_clusters=True)"
   ]
  },
  {
   "cell_type": "code",
   "execution_count": 42,
   "metadata": {},
   "outputs": [],
   "source": [
    "kmeans = cluster.KMeans(n_clusters=n_c)"
   ]
  },
  {
   "cell_type": "code",
   "execution_count": 43,
   "metadata": {},
   "outputs": [],
   "source": [
    "kmeans.fit(X)\n",
    " \n",
    "labels = kmeans.labels_\n",
    "centroids = kmeans.cluster_centers_"
   ]
  },
  {
   "cell_type": "code",
   "execution_count": 48,
   "metadata": {},
   "outputs": [
    {
     "name": "stdout",
     "output_type": "stream",
     "text": [
      "dental assistant\n",
      "purchasing assistant\n",
      "laboratory manager\n",
      "director validation services\n",
      "sr database specialist\n",
      "contract processor\n",
      "outside sales\n",
      "pizza chef\n",
      "program specialist\n",
      "senior project development engineer\n",
      "interior design project manager\n",
      "quality control engineer ii\n",
      "chief inspector\n",
      "sales management\n",
      "billing specialist\n",
      "accounting technician\n",
      "training specialist\n",
      "fund administration \n",
      "installation \n",
      "sr vp\n",
      "billing manager\n",
      "sales supervisor\n",
      "sr business intelligence analyst/develop\n",
      "manager, corp. philanthropy\n",
      "production tech\n",
      "operations director\n",
      "regional pharmacy services supervisor\n",
      "paid search specialist\n",
      "associate director of its\n",
      "water treatment plant manager\n",
      "floor installer\n",
      "tanker truck driver\n",
      "engagement manager\n",
      "sr. planner\n",
      "professional services consultant\n",
      "mortgage loan officer\n",
      "director of category management\n",
      "director animal shelter\n",
      "lead production\n",
      "secheduling clerk\n",
      "peace officer - sergeant\n",
      "director of ecommerce\n",
      "director nursing\n",
      "sr. director of billing\n",
      "supervisory intelligence analyst\n",
      "clinician\n",
      "office specialist\n",
      "returns supervisor\n",
      "sr. compensation analyst \n",
      "assistant store manager-aa\n",
      "founder\n",
      "senior specialist\n"
     ]
    }
   ],
   "source": [
    "words = list(model.wv.vocab)\n",
    "for i, word in enumerate(words):  \n",
    "    if assigned_clusters[i]==30:\n",
    "        print(word)"
   ]
  },
  {
   "cell_type": "code",
   "execution_count": null,
   "metadata": {},
   "outputs": [],
   "source": []
  }
 ],
 "metadata": {
  "kernelspec": {
   "display_name": "Python 3",
   "language": "python",
   "name": "python3"
  }
 },
 "nbformat": 4,
 "nbformat_minor": 2
}
